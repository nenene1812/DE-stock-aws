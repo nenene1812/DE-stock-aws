{
 "cells": [
  {
   "cell_type": "code",
   "execution_count": 1,
   "id": "1da434b6",
   "metadata": {},
   "outputs": [
    {
     "name": "stdout",
     "output_type": "stream",
     "text": [
      "Collecting pyathena\n",
      "  Obtaining dependency information for pyathena from https://files.pythonhosted.org/packages/e1/ff/8b225e3e7e1e3abe99660a485aef7d5cd7afe05598cbad9256c49c8b9ded/pyathena-3.0.6-py3-none-any.whl.metadata\n",
      "  Using cached pyathena-3.0.6-py3-none-any.whl.metadata (73 kB)\n",
      "Collecting boto3>=1.26.4 (from pyathena)\n",
      "  Obtaining dependency information for boto3>=1.26.4 from https://files.pythonhosted.org/packages/81/09/be4b462f1aef33ffd789dbcfbd626a261fa0acc3b1499990ce8b71474d89/boto3-1.28.40-py3-none-any.whl.metadata\n",
      "  Using cached boto3-1.28.40-py3-none-any.whl.metadata (6.7 kB)\n",
      "Requirement already satisfied: botocore>=1.29.4 in /opt/anaconda3/lib/python3.9/site-packages (from pyathena) (1.29.161)\n",
      "Requirement already satisfied: fsspec in /opt/anaconda3/lib/python3.9/site-packages (from pyathena) (2023.6.0)\n",
      "Requirement already satisfied: tenacity>=4.1.0 in /opt/anaconda3/lib/python3.9/site-packages (from pyathena) (8.0.1)\n",
      "Collecting botocore>=1.29.4 (from pyathena)\n",
      "  Obtaining dependency information for botocore>=1.29.4 from https://files.pythonhosted.org/packages/ba/2e/8b3b13bcd625115c6d65b0bbfa3312d983ef4508391e3bb09f4887fb34f5/botocore-1.31.40-py3-none-any.whl.metadata\n",
      "  Using cached botocore-1.31.40-py3-none-any.whl.metadata (6.0 kB)\n",
      "Requirement already satisfied: jmespath<2.0.0,>=0.7.1 in /opt/anaconda3/lib/python3.9/site-packages (from boto3>=1.26.4->pyathena) (1.0.1)\n",
      "Requirement already satisfied: s3transfer<0.7.0,>=0.6.0 in /opt/anaconda3/lib/python3.9/site-packages (from boto3>=1.26.4->pyathena) (0.6.0)\n",
      "Requirement already satisfied: python-dateutil<3.0.0,>=2.1 in /opt/anaconda3/lib/python3.9/site-packages (from botocore>=1.29.4->pyathena) (2.8.2)\n",
      "Requirement already satisfied: urllib3<1.27,>=1.25.4 in /opt/anaconda3/lib/python3.9/site-packages (from botocore>=1.29.4->pyathena) (1.26.16)\n",
      "Requirement already satisfied: six>=1.5 in /opt/anaconda3/lib/python3.9/site-packages (from python-dateutil<3.0.0,>=2.1->botocore>=1.29.4->pyathena) (1.16.0)\n",
      "Using cached pyathena-3.0.6-py3-none-any.whl (73 kB)\n",
      "Using cached boto3-1.28.40-py3-none-any.whl (135 kB)\n",
      "Using cached botocore-1.31.40-py3-none-any.whl (11.2 MB)\n",
      "Installing collected packages: botocore, boto3, pyathena\n",
      "  Attempting uninstall: botocore\n",
      "    Found existing installation: botocore 1.29.161\n",
      "    Uninstalling botocore-1.29.161:\n",
      "      Successfully uninstalled botocore-1.29.161\n",
      "  Attempting uninstall: boto3\n",
      "    Found existing installation: boto3 1.24.12\n",
      "    Uninstalling boto3-1.24.12:\n",
      "      Successfully uninstalled boto3-1.24.12\n",
      "\u001b[31mERROR: pip's dependency resolver does not currently take into account all the packages that are installed. This behaviour is the source of the following dependency conflicts.\n",
      "aiobotocore 2.5.2 requires botocore<1.29.162,>=1.29.161, but you have botocore 1.31.40 which is incompatible.\u001b[0m\u001b[31m\n",
      "\u001b[0mSuccessfully installed boto3-1.28.40 botocore-1.31.40 pyathena-3.0.6\n",
      "Note: you may need to restart the kernel to use updated packages.\n"
     ]
    }
   ],
   "source": [
    "pip install pyathena"
   ]
  },
  {
   "cell_type": "code",
   "execution_count": 37,
   "id": "735899df",
   "metadata": {},
   "outputs": [],
   "source": [
    "import pandas as pd\n",
    "from pyathena import connect\n",
    "from dotenv import load_dotenv\n",
    "load_dotenv()\n",
    "import os"
   ]
  },
  {
   "cell_type": "code",
   "execution_count": 38,
   "id": "90c79908",
   "metadata": {},
   "outputs": [
    {
     "name": "stderr",
     "output_type": "stream",
     "text": [
      "/var/folders/8d/z94nbqy54ts1qprs5dv7b7qm0000gn/T/ipykernel_52719/2984362621.py:8: UserWarning: pandas only supports SQLAlchemy connectable (engine/connection) or database string URI or sqlite3 DBAPI2 connection. Other DBAPI2 objects are not tested. Please consider using SQLAlchemy.\n",
      "  last_update = pd.read_sql(\"\"\"\n",
      "/var/folders/8d/z94nbqy54ts1qprs5dv7b7qm0000gn/T/ipykernel_52719/2984362621.py:14: UserWarning: pandas only supports SQLAlchemy connectable (engine/connection) or database string URI or sqlite3 DBAPI2 connection. Other DBAPI2 objects are not tested. Please consider using SQLAlchemy.\n",
      "  price_metric = pd.read_sql(f\"\"\"\n"
     ]
    }
   ],
   "source": [
    "# Initialize connection \n",
    "conn = connect(aws_access_key_id = os.environ[\"AWS_ACCESS_KEY_ID\"],\n",
    "               aws_secret_access_key = os.environ[\"AWS_SECRET_ACCESS_KEY\"],\n",
    "               s3_staging_dir = os.environ[\"S3_STAGING_DIR\"],\n",
    "               region_name = os.environ[\"REGION_NAME\"])\n",
    "\n",
    "# Execute query\n",
    "last_update = pd.read_sql(\"\"\"\n",
    "        SELECT MAX(data_date) as data_date\n",
    "        FROM \"nasdaq\".\"transformed_data\"\n",
    "        WHERE \"symbol\" = 'NASDAQ:Composite'\n",
    "          \"\"\", conn) \n",
    "\n",
    "price_metric = pd.read_sql(f\"\"\"\n",
    "        SELECT \"symbol\",max(price) as price, max(change_percent) change_percent, \n",
    "        MAX(volume) as volume\n",
    "        FROM \"nasdaq\".\"transformed_data\"\n",
    "        WHERE data_date = '%s'\n",
    "        GROUP BY 1 \n",
    "                           \"\"\"% last_update['data_date'][0], conn)\n",
    "# Execute query\n",
    "# df = pd.read_sql(query, conn) \n",
    "conn.close()"
   ]
  },
  {
   "cell_type": "code",
   "execution_count": 39,
   "id": "de2e8774",
   "metadata": {},
   "outputs": [
    {
     "data": {
      "text/html": [
       "<div>\n",
       "<style scoped>\n",
       "    .dataframe tbody tr th:only-of-type {\n",
       "        vertical-align: middle;\n",
       "    }\n",
       "\n",
       "    .dataframe tbody tr th {\n",
       "        vertical-align: top;\n",
       "    }\n",
       "\n",
       "    .dataframe thead th {\n",
       "        text-align: right;\n",
       "    }\n",
       "</style>\n",
       "<table border=\"1\" class=\"dataframe\">\n",
       "  <thead>\n",
       "    <tr style=\"text-align: right;\">\n",
       "      <th></th>\n",
       "      <th>data_date</th>\n",
       "    </tr>\n",
       "  </thead>\n",
       "  <tbody>\n",
       "    <tr>\n",
       "      <th>0</th>\n",
       "      <td>2023-09-05</td>\n",
       "    </tr>\n",
       "  </tbody>\n",
       "</table>\n",
       "</div>"
      ],
      "text/plain": [
       "    data_date\n",
       "0  2023-09-05"
      ]
     },
     "execution_count": 39,
     "metadata": {},
     "output_type": "execute_result"
    }
   ],
   "source": [
    "last_update"
   ]
  },
  {
   "cell_type": "code",
   "execution_count": 41,
   "id": "236a109c",
   "metadata": {},
   "outputs": [
    {
     "data": {
      "text/html": [
       "<div>\n",
       "<style scoped>\n",
       "    .dataframe tbody tr th:only-of-type {\n",
       "        vertical-align: middle;\n",
       "    }\n",
       "\n",
       "    .dataframe tbody tr th {\n",
       "        vertical-align: top;\n",
       "    }\n",
       "\n",
       "    .dataframe thead th {\n",
       "        text-align: right;\n",
       "    }\n",
       "</style>\n",
       "<table border=\"1\" class=\"dataframe\">\n",
       "  <thead>\n",
       "    <tr style=\"text-align: right;\">\n",
       "      <th></th>\n",
       "      <th>symbol</th>\n",
       "      <th>price</th>\n",
       "      <th>change_percent</th>\n",
       "      <th>volume</th>\n",
       "    </tr>\n",
       "  </thead>\n",
       "  <tbody>\n",
       "    <tr>\n",
       "      <th>0</th>\n",
       "      <td>TSLA:NASDAQ</td>\n",
       "      <td>256.490000</td>\n",
       "      <td>0.020000</td>\n",
       "      <td>0</td>\n",
       "    </tr>\n",
       "    <tr>\n",
       "      <th>1</th>\n",
       "      <td>VFS:NASDAQ</td>\n",
       "      <td>26.130000</td>\n",
       "      <td>-0.294900</td>\n",
       "      <td>0</td>\n",
       "    </tr>\n",
       "    <tr>\n",
       "      <th>2</th>\n",
       "      <td>NASDAQ:Composite</td>\n",
       "      <td>14020.950195</td>\n",
       "      <td>-0.077391</td>\n",
       "      <td>4379790000</td>\n",
       "    </tr>\n",
       "  </tbody>\n",
       "</table>\n",
       "</div>"
      ],
      "text/plain": [
       "             symbol         price  change_percent      volume\n",
       "0       TSLA:NASDAQ    256.490000        0.020000           0\n",
       "1        VFS:NASDAQ     26.130000       -0.294900           0\n",
       "2  NASDAQ:Composite  14020.950195       -0.077391  4379790000"
      ]
     },
     "execution_count": 41,
     "metadata": {},
     "output_type": "execute_result"
    }
   ],
   "source": [
    "price_metric"
   ]
  },
  {
   "cell_type": "code",
   "execution_count": 42,
   "id": "a66d476d",
   "metadata": {},
   "outputs": [],
   "source": [
    "nasdaq =  price_metric[price_metric['symbol'] == 'NASDAQ:Composite']"
   ]
  },
  {
   "cell_type": "code",
   "execution_count": 28,
   "id": "0657d14a",
   "metadata": {},
   "outputs": [
    {
     "data": {
      "text/html": [
       "<div>\n",
       "<style scoped>\n",
       "    .dataframe tbody tr th:only-of-type {\n",
       "        vertical-align: middle;\n",
       "    }\n",
       "\n",
       "    .dataframe tbody tr th {\n",
       "        vertical-align: top;\n",
       "    }\n",
       "\n",
       "    .dataframe thead th {\n",
       "        text-align: right;\n",
       "    }\n",
       "</style>\n",
       "<table border=\"1\" class=\"dataframe\">\n",
       "  <thead>\n",
       "    <tr style=\"text-align: right;\">\n",
       "      <th></th>\n",
       "      <th>symbol</th>\n",
       "      <th>price</th>\n",
       "      <th>change_percent</th>\n",
       "      <th>volume</th>\n",
       "    </tr>\n",
       "  </thead>\n",
       "  <tbody>\n",
       "    <tr>\n",
       "      <th>2</th>\n",
       "      <td>NASDAQ:Composite</td>\n",
       "      <td>14031.80957</td>\n",
       "      <td>-0.022516</td>\n",
       "      <td>4033960000</td>\n",
       "    </tr>\n",
       "  </tbody>\n",
       "</table>\n",
       "</div>"
      ],
      "text/plain": [
       "             symbol        price  change_percent      volume\n",
       "2  NASDAQ:Composite  14031.80957       -0.022516  4033960000"
      ]
     },
     "execution_count": 28,
     "metadata": {},
     "output_type": "execute_result"
    }
   ],
   "source": [
    "nasdaq"
   ]
  },
  {
   "cell_type": "code",
   "execution_count": 25,
   "id": "303b2891",
   "metadata": {},
   "outputs": [],
   "source": [
    "price = nasdaq['price'].values[0]"
   ]
  },
  {
   "cell_type": "code",
   "execution_count": 32,
   "id": "dd435ae7",
   "metadata": {},
   "outputs": [],
   "source": [
    "change = nasdaq['change_percent'].values[0]"
   ]
  },
  {
   "cell_type": "code",
   "execution_count": 33,
   "id": "4cf692c9",
   "metadata": {},
   "outputs": [],
   "source": [
    "data = pd.DataFrame({\n",
    "    'Date': ['2022-01-01','2022-01-02','2022-01-03','2022-01-04','2022-01-05','2022-01-06','2022-01-07','2022-01-08','2022-01-09','2022-01-10'],\n",
    "    'Price': [10,11,12,13,14,14,100,299,300,500],\n",
    "    'Volume': [100, 200, 300, 400, 500,100, 200, 300, 400,200]\n",
    "})\n"
   ]
  },
  {
   "cell_type": "code",
   "execution_count": 34,
   "id": "5b9ea61c",
   "metadata": {},
   "outputs": [
    {
     "data": {
      "text/html": [
       "<div>\n",
       "<style scoped>\n",
       "    .dataframe tbody tr th:only-of-type {\n",
       "        vertical-align: middle;\n",
       "    }\n",
       "\n",
       "    .dataframe tbody tr th {\n",
       "        vertical-align: top;\n",
       "    }\n",
       "\n",
       "    .dataframe thead th {\n",
       "        text-align: right;\n",
       "    }\n",
       "</style>\n",
       "<table border=\"1\" class=\"dataframe\">\n",
       "  <thead>\n",
       "    <tr style=\"text-align: right;\">\n",
       "      <th></th>\n",
       "      <th>Date</th>\n",
       "      <th>Price</th>\n",
       "      <th>Volume</th>\n",
       "    </tr>\n",
       "  </thead>\n",
       "  <tbody>\n",
       "    <tr>\n",
       "      <th>0</th>\n",
       "      <td>2022-01-01</td>\n",
       "      <td>10</td>\n",
       "      <td>100</td>\n",
       "    </tr>\n",
       "    <tr>\n",
       "      <th>1</th>\n",
       "      <td>2022-01-02</td>\n",
       "      <td>11</td>\n",
       "      <td>200</td>\n",
       "    </tr>\n",
       "    <tr>\n",
       "      <th>2</th>\n",
       "      <td>2022-01-03</td>\n",
       "      <td>12</td>\n",
       "      <td>300</td>\n",
       "    </tr>\n",
       "    <tr>\n",
       "      <th>3</th>\n",
       "      <td>2022-01-04</td>\n",
       "      <td>13</td>\n",
       "      <td>400</td>\n",
       "    </tr>\n",
       "    <tr>\n",
       "      <th>4</th>\n",
       "      <td>2022-01-05</td>\n",
       "      <td>14</td>\n",
       "      <td>500</td>\n",
       "    </tr>\n",
       "    <tr>\n",
       "      <th>5</th>\n",
       "      <td>2022-01-06</td>\n",
       "      <td>14</td>\n",
       "      <td>100</td>\n",
       "    </tr>\n",
       "    <tr>\n",
       "      <th>6</th>\n",
       "      <td>2022-01-07</td>\n",
       "      <td>100</td>\n",
       "      <td>200</td>\n",
       "    </tr>\n",
       "    <tr>\n",
       "      <th>7</th>\n",
       "      <td>2022-01-08</td>\n",
       "      <td>299</td>\n",
       "      <td>300</td>\n",
       "    </tr>\n",
       "    <tr>\n",
       "      <th>8</th>\n",
       "      <td>2022-01-09</td>\n",
       "      <td>300</td>\n",
       "      <td>400</td>\n",
       "    </tr>\n",
       "    <tr>\n",
       "      <th>9</th>\n",
       "      <td>2022-01-10</td>\n",
       "      <td>500</td>\n",
       "      <td>200</td>\n",
       "    </tr>\n",
       "  </tbody>\n",
       "</table>\n",
       "</div>"
      ],
      "text/plain": [
       "         Date  Price  Volume\n",
       "0  2022-01-01     10     100\n",
       "1  2022-01-02     11     200\n",
       "2  2022-01-03     12     300\n",
       "3  2022-01-04     13     400\n",
       "4  2022-01-05     14     500\n",
       "5  2022-01-06     14     100\n",
       "6  2022-01-07    100     200\n",
       "7  2022-01-08    299     300\n",
       "8  2022-01-09    300     400\n",
       "9  2022-01-10    500     200"
      ]
     },
     "execution_count": 34,
     "metadata": {},
     "output_type": "execute_result"
    }
   ],
   "source": [
    "data"
   ]
  },
  {
   "cell_type": "code",
   "execution_count": null,
   "id": "40558bad",
   "metadata": {},
   "outputs": [],
   "source": []
  }
 ],
 "metadata": {
  "kernelspec": {
   "display_name": "Python 3 (ipykernel)",
   "language": "python",
   "name": "python3"
  },
  "language_info": {
   "codemirror_mode": {
    "name": "ipython",
    "version": 3
   },
   "file_extension": ".py",
   "mimetype": "text/x-python",
   "name": "python",
   "nbconvert_exporter": "python",
   "pygments_lexer": "ipython3",
   "version": "3.9.13"
  }
 },
 "nbformat": 4,
 "nbformat_minor": 5
}
